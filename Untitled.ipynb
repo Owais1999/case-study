{
 "cells": [
  {
   "cell_type": "code",
   "execution_count": 1,
   "id": "e99c24dd",
   "metadata": {},
   "outputs": [],
   "source": [
    "import numpy as np\n",
    "import pandas as pd\n",
    "import matplotlib.pyplot as plt\n",
    "import seaborn as sns\n",
    "import warnings\n",
    "warnings.filterwarnings(\"ignore\")"
   ]
  },
  {
   "cell_type": "code",
   "execution_count": 2,
   "id": "a1833e96",
   "metadata": {},
   "outputs": [
    {
     "data": {
      "text/html": [
       "<div>\n",
       "<style scoped>\n",
       "    .dataframe tbody tr th:only-of-type {\n",
       "        vertical-align: middle;\n",
       "    }\n",
       "\n",
       "    .dataframe tbody tr th {\n",
       "        vertical-align: top;\n",
       "    }\n",
       "\n",
       "    .dataframe thead th {\n",
       "        text-align: right;\n",
       "    }\n",
       "</style>\n",
       "<table border=\"1\" class=\"dataframe\">\n",
       "  <thead>\n",
       "    <tr style=\"text-align: right;\">\n",
       "      <th></th>\n",
       "      <th>Avg. Area Income</th>\n",
       "      <th>Avg. Area House Age</th>\n",
       "      <th>Avg. Area Number of Rooms</th>\n",
       "      <th>Avg. Area Number of Bedrooms</th>\n",
       "      <th>Area Population</th>\n",
       "      <th>Price</th>\n",
       "      <th>Address</th>\n",
       "    </tr>\n",
       "  </thead>\n",
       "  <tbody>\n",
       "    <tr>\n",
       "      <th>0</th>\n",
       "      <td>79545.458574</td>\n",
       "      <td>5.682861</td>\n",
       "      <td>7.009188</td>\n",
       "      <td>4.09</td>\n",
       "      <td>23086.800503</td>\n",
       "      <td>1.059034e+06</td>\n",
       "      <td>208 Michael Ferry Apt. 674\\nLaurabury, NE 3701...</td>\n",
       "    </tr>\n",
       "    <tr>\n",
       "      <th>1</th>\n",
       "      <td>79248.642455</td>\n",
       "      <td>6.002900</td>\n",
       "      <td>6.730821</td>\n",
       "      <td>3.09</td>\n",
       "      <td>40173.072174</td>\n",
       "      <td>1.505891e+06</td>\n",
       "      <td>188 Johnson Views Suite 079\\nLake Kathleen, CA...</td>\n",
       "    </tr>\n",
       "    <tr>\n",
       "      <th>2</th>\n",
       "      <td>61287.067179</td>\n",
       "      <td>5.865890</td>\n",
       "      <td>8.512727</td>\n",
       "      <td>5.13</td>\n",
       "      <td>36882.159400</td>\n",
       "      <td>1.058988e+06</td>\n",
       "      <td>9127 Elizabeth Stravenue\\nDanieltown, WI 06482...</td>\n",
       "    </tr>\n",
       "    <tr>\n",
       "      <th>3</th>\n",
       "      <td>63345.240046</td>\n",
       "      <td>7.188236</td>\n",
       "      <td>5.586729</td>\n",
       "      <td>3.26</td>\n",
       "      <td>34310.242831</td>\n",
       "      <td>1.260617e+06</td>\n",
       "      <td>USS Barnett\\nFPO AP 44820</td>\n",
       "    </tr>\n",
       "    <tr>\n",
       "      <th>4</th>\n",
       "      <td>59982.197226</td>\n",
       "      <td>5.040555</td>\n",
       "      <td>7.839388</td>\n",
       "      <td>4.23</td>\n",
       "      <td>26354.109472</td>\n",
       "      <td>6.309435e+05</td>\n",
       "      <td>USNS Raymond\\nFPO AE 09386</td>\n",
       "    </tr>\n",
       "  </tbody>\n",
       "</table>\n",
       "</div>"
      ],
      "text/plain": [
       "   Avg. Area Income  Avg. Area House Age  Avg. Area Number of Rooms  \\\n",
       "0      79545.458574             5.682861                   7.009188   \n",
       "1      79248.642455             6.002900                   6.730821   \n",
       "2      61287.067179             5.865890                   8.512727   \n",
       "3      63345.240046             7.188236                   5.586729   \n",
       "4      59982.197226             5.040555                   7.839388   \n",
       "\n",
       "   Avg. Area Number of Bedrooms  Area Population         Price  \\\n",
       "0                          4.09     23086.800503  1.059034e+06   \n",
       "1                          3.09     40173.072174  1.505891e+06   \n",
       "2                          5.13     36882.159400  1.058988e+06   \n",
       "3                          3.26     34310.242831  1.260617e+06   \n",
       "4                          4.23     26354.109472  6.309435e+05   \n",
       "\n",
       "                                             Address  \n",
       "0  208 Michael Ferry Apt. 674\\nLaurabury, NE 3701...  \n",
       "1  188 Johnson Views Suite 079\\nLake Kathleen, CA...  \n",
       "2  9127 Elizabeth Stravenue\\nDanieltown, WI 06482...  \n",
       "3                          USS Barnett\\nFPO AP 44820  \n",
       "4                         USNS Raymond\\nFPO AE 09386  "
      ]
     },
     "execution_count": 2,
     "metadata": {},
     "output_type": "execute_result"
    }
   ],
   "source": [
    "df = pd.read_csv(\"USA_Housing.csv\")\n",
    "df.head()"
   ]
  },
  {
   "cell_type": "code",
   "execution_count": 3,
   "id": "9dbeb516",
   "metadata": {},
   "outputs": [
    {
     "name": "stdout",
     "output_type": "stream",
     "text": [
      "<class 'pandas.core.frame.DataFrame'>\n",
      "RangeIndex: 5000 entries, 0 to 4999\n",
      "Data columns (total 7 columns):\n",
      " #   Column                        Non-Null Count  Dtype  \n",
      "---  ------                        --------------  -----  \n",
      " 0   Avg. Area Income              5000 non-null   float64\n",
      " 1   Avg. Area House Age           5000 non-null   float64\n",
      " 2   Avg. Area Number of Rooms     5000 non-null   float64\n",
      " 3   Avg. Area Number of Bedrooms  5000 non-null   float64\n",
      " 4   Area Population               5000 non-null   float64\n",
      " 5   Price                         5000 non-null   float64\n",
      " 6   Address                       5000 non-null   object \n",
      "dtypes: float64(6), object(1)\n",
      "memory usage: 273.6+ KB\n"
     ]
    }
   ],
   "source": [
    "df.info()"
   ]
  },
  {
   "cell_type": "code",
   "execution_count": 4,
   "id": "c885b995",
   "metadata": {},
   "outputs": [
    {
     "data": {
      "text/html": [
       "<div>\n",
       "<style scoped>\n",
       "    .dataframe tbody tr th:only-of-type {\n",
       "        vertical-align: middle;\n",
       "    }\n",
       "\n",
       "    .dataframe tbody tr th {\n",
       "        vertical-align: top;\n",
       "    }\n",
       "\n",
       "    .dataframe thead th {\n",
       "        text-align: right;\n",
       "    }\n",
       "</style>\n",
       "<table border=\"1\" class=\"dataframe\">\n",
       "  <thead>\n",
       "    <tr style=\"text-align: right;\">\n",
       "      <th></th>\n",
       "      <th>Avg. Area Income</th>\n",
       "      <th>Avg. Area House Age</th>\n",
       "      <th>Avg. Area Number of Rooms</th>\n",
       "      <th>Avg. Area Number of Bedrooms</th>\n",
       "      <th>Area Population</th>\n",
       "      <th>Price</th>\n",
       "    </tr>\n",
       "  </thead>\n",
       "  <tbody>\n",
       "    <tr>\n",
       "      <th>count</th>\n",
       "      <td>5000.000000</td>\n",
       "      <td>5000.000000</td>\n",
       "      <td>5000.000000</td>\n",
       "      <td>5000.000000</td>\n",
       "      <td>5000.000000</td>\n",
       "      <td>5.000000e+03</td>\n",
       "    </tr>\n",
       "    <tr>\n",
       "      <th>mean</th>\n",
       "      <td>68583.108984</td>\n",
       "      <td>5.977222</td>\n",
       "      <td>6.987792</td>\n",
       "      <td>3.981330</td>\n",
       "      <td>36163.516039</td>\n",
       "      <td>1.232073e+06</td>\n",
       "    </tr>\n",
       "    <tr>\n",
       "      <th>std</th>\n",
       "      <td>10657.991214</td>\n",
       "      <td>0.991456</td>\n",
       "      <td>1.005833</td>\n",
       "      <td>1.234137</td>\n",
       "      <td>9925.650114</td>\n",
       "      <td>3.531176e+05</td>\n",
       "    </tr>\n",
       "    <tr>\n",
       "      <th>min</th>\n",
       "      <td>17796.631190</td>\n",
       "      <td>2.644304</td>\n",
       "      <td>3.236194</td>\n",
       "      <td>2.000000</td>\n",
       "      <td>172.610686</td>\n",
       "      <td>1.593866e+04</td>\n",
       "    </tr>\n",
       "    <tr>\n",
       "      <th>25%</th>\n",
       "      <td>61480.562388</td>\n",
       "      <td>5.322283</td>\n",
       "      <td>6.299250</td>\n",
       "      <td>3.140000</td>\n",
       "      <td>29403.928702</td>\n",
       "      <td>9.975771e+05</td>\n",
       "    </tr>\n",
       "    <tr>\n",
       "      <th>50%</th>\n",
       "      <td>68804.286404</td>\n",
       "      <td>5.970429</td>\n",
       "      <td>7.002902</td>\n",
       "      <td>4.050000</td>\n",
       "      <td>36199.406689</td>\n",
       "      <td>1.232669e+06</td>\n",
       "    </tr>\n",
       "    <tr>\n",
       "      <th>75%</th>\n",
       "      <td>75783.338666</td>\n",
       "      <td>6.650808</td>\n",
       "      <td>7.665871</td>\n",
       "      <td>4.490000</td>\n",
       "      <td>42861.290769</td>\n",
       "      <td>1.471210e+06</td>\n",
       "    </tr>\n",
       "    <tr>\n",
       "      <th>max</th>\n",
       "      <td>107701.748378</td>\n",
       "      <td>9.519088</td>\n",
       "      <td>10.759588</td>\n",
       "      <td>6.500000</td>\n",
       "      <td>69621.713378</td>\n",
       "      <td>2.469066e+06</td>\n",
       "    </tr>\n",
       "  </tbody>\n",
       "</table>\n",
       "</div>"
      ],
      "text/plain": [
       "       Avg. Area Income  Avg. Area House Age  Avg. Area Number of Rooms  \\\n",
       "count       5000.000000          5000.000000                5000.000000   \n",
       "mean       68583.108984             5.977222                   6.987792   \n",
       "std        10657.991214             0.991456                   1.005833   \n",
       "min        17796.631190             2.644304                   3.236194   \n",
       "25%        61480.562388             5.322283                   6.299250   \n",
       "50%        68804.286404             5.970429                   7.002902   \n",
       "75%        75783.338666             6.650808                   7.665871   \n",
       "max       107701.748378             9.519088                  10.759588   \n",
       "\n",
       "       Avg. Area Number of Bedrooms  Area Population         Price  \n",
       "count                   5000.000000      5000.000000  5.000000e+03  \n",
       "mean                       3.981330     36163.516039  1.232073e+06  \n",
       "std                        1.234137      9925.650114  3.531176e+05  \n",
       "min                        2.000000       172.610686  1.593866e+04  \n",
       "25%                        3.140000     29403.928702  9.975771e+05  \n",
       "50%                        4.050000     36199.406689  1.232669e+06  \n",
       "75%                        4.490000     42861.290769  1.471210e+06  \n",
       "max                        6.500000     69621.713378  2.469066e+06  "
      ]
     },
     "execution_count": 4,
     "metadata": {},
     "output_type": "execute_result"
    }
   ],
   "source": [
    "df.describe()"
   ]
  },
  {
   "cell_type": "code",
   "execution_count": 5,
   "id": "909768f0",
   "metadata": {},
   "outputs": [
    {
     "data": {
      "text/html": [
       "<style  type=\"text/css\" >\n",
       "#T_d34a8_row0_col0,#T_d34a8_row1_col1,#T_d34a8_row2_col2,#T_d34a8_row3_col3,#T_d34a8_row4_col4,#T_d34a8_row5_col5{\n",
       "            background-color:  #023858;\n",
       "            color:  #f1f1f1;\n",
       "        }#T_d34a8_row0_col1,#T_d34a8_row1_col0,#T_d34a8_row4_col2{\n",
       "            background-color:  #fdf5fa;\n",
       "            color:  #000000;\n",
       "        }#T_d34a8_row0_col2,#T_d34a8_row1_col2,#T_d34a8_row1_col4,#T_d34a8_row3_col4,#T_d34a8_row3_col5,#T_d34a8_row4_col0,#T_d34a8_row4_col1,#T_d34a8_row4_col3{\n",
       "            background-color:  #fff7fb;\n",
       "            color:  #000000;\n",
       "        }#T_d34a8_row0_col3{\n",
       "            background-color:  #f9f2f8;\n",
       "            color:  #000000;\n",
       "        }#T_d34a8_row0_col4,#T_d34a8_row2_col0{\n",
       "            background-color:  #fef6fb;\n",
       "            color:  #000000;\n",
       "        }#T_d34a8_row0_col5{\n",
       "            background-color:  #549cc7;\n",
       "            color:  #000000;\n",
       "        }#T_d34a8_row1_col3{\n",
       "            background-color:  #fbf3f9;\n",
       "            color:  #000000;\n",
       "        }#T_d34a8_row1_col5{\n",
       "            background-color:  #b3c3de;\n",
       "            color:  #000000;\n",
       "        }#T_d34a8_row2_col1{\n",
       "            background-color:  #fef6fa;\n",
       "            color:  #000000;\n",
       "        }#T_d34a8_row2_col3{\n",
       "            background-color:  #7eadd1;\n",
       "            color:  #000000;\n",
       "        }#T_d34a8_row2_col4,#T_d34a8_row3_col1{\n",
       "            background-color:  #fbf4f9;\n",
       "            color:  #000000;\n",
       "        }#T_d34a8_row2_col5{\n",
       "            background-color:  #dcdaeb;\n",
       "            color:  #000000;\n",
       "        }#T_d34a8_row3_col0{\n",
       "            background-color:  #faf2f8;\n",
       "            color:  #000000;\n",
       "        }#T_d34a8_row3_col2{\n",
       "            background-color:  #81aed2;\n",
       "            color:  #000000;\n",
       "        }#T_d34a8_row4_col5{\n",
       "            background-color:  #c4cbe3;\n",
       "            color:  #000000;\n",
       "        }#T_d34a8_row5_col0{\n",
       "            background-color:  #2d8abd;\n",
       "            color:  #000000;\n",
       "        }#T_d34a8_row5_col1{\n",
       "            background-color:  #83afd3;\n",
       "            color:  #000000;\n",
       "        }#T_d34a8_row5_col2{\n",
       "            background-color:  #b1c2de;\n",
       "            color:  #000000;\n",
       "        }#T_d34a8_row5_col3{\n",
       "            background-color:  #dedcec;\n",
       "            color:  #000000;\n",
       "        }#T_d34a8_row5_col4{\n",
       "            background-color:  #94b6d7;\n",
       "            color:  #000000;\n",
       "        }</style><table id=\"T_d34a8_\" ><thead>    <tr>        <th class=\"blank level0\" ></th>        <th class=\"col_heading level0 col0\" >Avg. Area Income</th>        <th class=\"col_heading level0 col1\" >Avg. Area House Age</th>        <th class=\"col_heading level0 col2\" >Avg. Area Number of Rooms</th>        <th class=\"col_heading level0 col3\" >Avg. Area Number of Bedrooms</th>        <th class=\"col_heading level0 col4\" >Area Population</th>        <th class=\"col_heading level0 col5\" >Price</th>    </tr></thead><tbody>\n",
       "                <tr>\n",
       "                        <th id=\"T_d34a8_level0_row0\" class=\"row_heading level0 row0\" >Avg. Area Income</th>\n",
       "                        <td id=\"T_d34a8_row0_col0\" class=\"data row0 col0\" >1.000000</td>\n",
       "                        <td id=\"T_d34a8_row0_col1\" class=\"data row0 col1\" >-0.002007</td>\n",
       "                        <td id=\"T_d34a8_row0_col2\" class=\"data row0 col2\" >-0.011032</td>\n",
       "                        <td id=\"T_d34a8_row0_col3\" class=\"data row0 col3\" >0.019788</td>\n",
       "                        <td id=\"T_d34a8_row0_col4\" class=\"data row0 col4\" >-0.016234</td>\n",
       "                        <td id=\"T_d34a8_row0_col5\" class=\"data row0 col5\" >0.639734</td>\n",
       "            </tr>\n",
       "            <tr>\n",
       "                        <th id=\"T_d34a8_level0_row1\" class=\"row_heading level0 row1\" >Avg. Area House Age</th>\n",
       "                        <td id=\"T_d34a8_row1_col0\" class=\"data row1 col0\" >-0.002007</td>\n",
       "                        <td id=\"T_d34a8_row1_col1\" class=\"data row1 col1\" >1.000000</td>\n",
       "                        <td id=\"T_d34a8_row1_col2\" class=\"data row1 col2\" >-0.009428</td>\n",
       "                        <td id=\"T_d34a8_row1_col3\" class=\"data row1 col3\" >0.006149</td>\n",
       "                        <td id=\"T_d34a8_row1_col4\" class=\"data row1 col4\" >-0.018743</td>\n",
       "                        <td id=\"T_d34a8_row1_col5\" class=\"data row1 col5\" >0.452543</td>\n",
       "            </tr>\n",
       "            <tr>\n",
       "                        <th id=\"T_d34a8_level0_row2\" class=\"row_heading level0 row2\" >Avg. Area Number of Rooms</th>\n",
       "                        <td id=\"T_d34a8_row2_col0\" class=\"data row2 col0\" >-0.011032</td>\n",
       "                        <td id=\"T_d34a8_row2_col1\" class=\"data row2 col1\" >-0.009428</td>\n",
       "                        <td id=\"T_d34a8_row2_col2\" class=\"data row2 col2\" >1.000000</td>\n",
       "                        <td id=\"T_d34a8_row2_col3\" class=\"data row2 col3\" >0.462695</td>\n",
       "                        <td id=\"T_d34a8_row2_col4\" class=\"data row2 col4\" >0.002040</td>\n",
       "                        <td id=\"T_d34a8_row2_col5\" class=\"data row2 col5\" >0.335664</td>\n",
       "            </tr>\n",
       "            <tr>\n",
       "                        <th id=\"T_d34a8_level0_row3\" class=\"row_heading level0 row3\" >Avg. Area Number of Bedrooms</th>\n",
       "                        <td id=\"T_d34a8_row3_col0\" class=\"data row3 col0\" >0.019788</td>\n",
       "                        <td id=\"T_d34a8_row3_col1\" class=\"data row3 col1\" >0.006149</td>\n",
       "                        <td id=\"T_d34a8_row3_col2\" class=\"data row3 col2\" >0.462695</td>\n",
       "                        <td id=\"T_d34a8_row3_col3\" class=\"data row3 col3\" >1.000000</td>\n",
       "                        <td id=\"T_d34a8_row3_col4\" class=\"data row3 col4\" >-0.022168</td>\n",
       "                        <td id=\"T_d34a8_row3_col5\" class=\"data row3 col5\" >0.171071</td>\n",
       "            </tr>\n",
       "            <tr>\n",
       "                        <th id=\"T_d34a8_level0_row4\" class=\"row_heading level0 row4\" >Area Population</th>\n",
       "                        <td id=\"T_d34a8_row4_col0\" class=\"data row4 col0\" >-0.016234</td>\n",
       "                        <td id=\"T_d34a8_row4_col1\" class=\"data row4 col1\" >-0.018743</td>\n",
       "                        <td id=\"T_d34a8_row4_col2\" class=\"data row4 col2\" >0.002040</td>\n",
       "                        <td id=\"T_d34a8_row4_col3\" class=\"data row4 col3\" >-0.022168</td>\n",
       "                        <td id=\"T_d34a8_row4_col4\" class=\"data row4 col4\" >1.000000</td>\n",
       "                        <td id=\"T_d34a8_row4_col5\" class=\"data row4 col5\" >0.408556</td>\n",
       "            </tr>\n",
       "            <tr>\n",
       "                        <th id=\"T_d34a8_level0_row5\" class=\"row_heading level0 row5\" >Price</th>\n",
       "                        <td id=\"T_d34a8_row5_col0\" class=\"data row5 col0\" >0.639734</td>\n",
       "                        <td id=\"T_d34a8_row5_col1\" class=\"data row5 col1\" >0.452543</td>\n",
       "                        <td id=\"T_d34a8_row5_col2\" class=\"data row5 col2\" >0.335664</td>\n",
       "                        <td id=\"T_d34a8_row5_col3\" class=\"data row5 col3\" >0.171071</td>\n",
       "                        <td id=\"T_d34a8_row5_col4\" class=\"data row5 col4\" >0.408556</td>\n",
       "                        <td id=\"T_d34a8_row5_col5\" class=\"data row5 col5\" >1.000000</td>\n",
       "            </tr>\n",
       "    </tbody></table>"
      ],
      "text/plain": [
       "<pandas.io.formats.style.Styler at 0x245d5c1610>"
      ]
     },
     "execution_count": 5,
     "metadata": {},
     "output_type": "execute_result"
    }
   ],
   "source": [
    "df.corr().style.background_gradient() #to check the correalation through heatmap"
   ]
  },
  {
   "cell_type": "code",
   "execution_count": 6,
   "id": "db56a925",
   "metadata": {},
   "outputs": [
    {
     "data": {
      "text/plain": [
       "Avg. Area Number of Bedrooms    0.171071\n",
       "Avg. Area Number of Rooms       0.335664\n",
       "Area Population                 0.408556\n",
       "Avg. Area House Age             0.452543\n",
       "Avg. Area Income                0.639734\n",
       "Price                           1.000000\n",
       "Name: Price, dtype: float64"
      ]
     },
     "execution_count": 6,
     "metadata": {},
     "output_type": "execute_result"
    }
   ],
   "source": [
    "df.corr()[\"Price\"].sort_values()"
   ]
  },
  {
   "cell_type": "markdown",
   "id": "dde55d66",
   "metadata": {},
   "source": [
    "# Dividing the dataset into x & y"
   ]
  },
  {
   "cell_type": "code",
   "execution_count": 7,
   "id": "770ad74f",
   "metadata": {},
   "outputs": [],
   "source": [
    "x = df.iloc[:,:-2].values\n",
    "y = df.iloc[:, -2].values"
   ]
  },
  {
   "cell_type": "code",
   "execution_count": 8,
   "id": "9422f677",
   "metadata": {},
   "outputs": [
    {
     "data": {
      "text/plain": [
       "array([[7.95454586e+04, 5.68286132e+00, 7.00918814e+00, 4.09000000e+00,\n",
       "        2.30868005e+04],\n",
       "       [7.92486425e+04, 6.00289981e+00, 6.73082102e+00, 3.09000000e+00,\n",
       "        4.01730722e+04],\n",
       "       [6.12870672e+04, 5.86588984e+00, 8.51272743e+00, 5.13000000e+00,\n",
       "        3.68821594e+04],\n",
       "       ...,\n",
       "       [6.33906869e+04, 7.25059061e+00, 4.80508098e+00, 2.13000000e+00,\n",
       "        3.32661455e+04],\n",
       "       [6.80013312e+04, 5.53438842e+00, 7.13014386e+00, 5.44000000e+00,\n",
       "        4.26256202e+04],\n",
       "       [6.55105818e+04, 5.99230531e+00, 6.79233610e+00, 4.07000000e+00,\n",
       "        4.65012838e+04]])"
      ]
     },
     "execution_count": 8,
     "metadata": {},
     "output_type": "execute_result"
    }
   ],
   "source": [
    "x"
   ]
  },
  {
   "cell_type": "code",
   "execution_count": 9,
   "id": "e0f22273",
   "metadata": {},
   "outputs": [
    {
     "data": {
      "text/plain": [
       "array([1059033.55787012, 1505890.91484695, 1058987.98787608, ...,\n",
       "       1030729.58315229, 1198656.87240769, 1298950.48026696])"
      ]
     },
     "execution_count": 9,
     "metadata": {},
     "output_type": "execute_result"
    }
   ],
   "source": [
    "y"
   ]
  },
  {
   "cell_type": "markdown",
   "id": "784f235f",
   "metadata": {},
   "source": [
    "## dividing the model (Training and testing model)"
   ]
  },
  {
   "cell_type": "code",
   "execution_count": 10,
   "id": "5cfca528",
   "metadata": {},
   "outputs": [],
   "source": [
    "from sklearn.model_selection import train_test_split\n",
    "xtrain, xtest, ytrain, ytest = train_test_split(x,y, test_size=0.2, random_state=1)"
   ]
  },
  {
   "cell_type": "markdown",
   "id": "fdce96f6",
   "metadata": {},
   "source": [
    "## Performing LinearRegression on the dataset"
   ]
  },
  {
   "cell_type": "code",
   "execution_count": 11,
   "id": "a24bfb2c",
   "metadata": {},
   "outputs": [],
   "source": [
    "from sklearn.linear_model import LinearRegression\n",
    "linreg = LinearRegression()\n",
    "linreg.fit(xtest, ytest)\n",
    "ypred = linreg.predict(xtest)"
   ]
  },
  {
   "cell_type": "markdown",
   "id": "3af3daf1",
   "metadata": {},
   "source": [
    "## Displaying interception"
   ]
  },
  {
   "cell_type": "code",
   "execution_count": 12,
   "id": "9a67f9ba",
   "metadata": {},
   "outputs": [
    {
     "data": {
      "text/plain": [
       "-2639118.359220582"
      ]
     },
     "execution_count": 12,
     "metadata": {},
     "output_type": "execute_result"
    }
   ],
   "source": [
    "linreg.intercept_"
   ]
  },
  {
   "cell_type": "markdown",
   "id": "8de0df75",
   "metadata": {},
   "source": [
    "## Displaying coefficient"
   ]
  },
  {
   "cell_type": "code",
   "execution_count": 13,
   "id": "bf068b92",
   "metadata": {},
   "outputs": [
    {
     "data": {
      "text/plain": [
       "array([2.11974663e+01, 1.68646275e+05, 1.20151740e+05, 1.90404420e+03,\n",
       "       1.54397830e+01])"
      ]
     },
     "execution_count": 13,
     "metadata": {},
     "output_type": "execute_result"
    }
   ],
   "source": [
    "linreg.coef_"
   ]
  },
  {
   "cell_type": "markdown",
   "id": "75f5f94b",
   "metadata": {},
   "source": [
    "### To interpret the Coefficient more easily we need to convert this data into a Dataframe"
   ]
  },
  {
   "cell_type": "code",
   "execution_count": 14,
   "id": "3f37be39",
   "metadata": {},
   "outputs": [],
   "source": [
    "x = df.iloc[:,:-2] \n",
    "y = df.iloc[:,-2]"
   ]
  },
  {
   "cell_type": "code",
   "execution_count": 15,
   "id": "b4223aae",
   "metadata": {},
   "outputs": [
    {
     "data": {
      "text/html": [
       "<div>\n",
       "<style scoped>\n",
       "    .dataframe tbody tr th:only-of-type {\n",
       "        vertical-align: middle;\n",
       "    }\n",
       "\n",
       "    .dataframe tbody tr th {\n",
       "        vertical-align: top;\n",
       "    }\n",
       "\n",
       "    .dataframe thead th {\n",
       "        text-align: right;\n",
       "    }\n",
       "</style>\n",
       "<table border=\"1\" class=\"dataframe\">\n",
       "  <thead>\n",
       "    <tr style=\"text-align: right;\">\n",
       "      <th></th>\n",
       "      <th>Coefficient</th>\n",
       "    </tr>\n",
       "  </thead>\n",
       "  <tbody>\n",
       "    <tr>\n",
       "      <th>Avg. Area Income</th>\n",
       "      <td>21.197466</td>\n",
       "    </tr>\n",
       "    <tr>\n",
       "      <th>Avg. Area House Age</th>\n",
       "      <td>168646.274595</td>\n",
       "    </tr>\n",
       "    <tr>\n",
       "      <th>Avg. Area Number of Rooms</th>\n",
       "      <td>120151.740076</td>\n",
       "    </tr>\n",
       "    <tr>\n",
       "      <th>Avg. Area Number of Bedrooms</th>\n",
       "      <td>1904.044197</td>\n",
       "    </tr>\n",
       "    <tr>\n",
       "      <th>Area Population</th>\n",
       "      <td>15.439783</td>\n",
       "    </tr>\n",
       "  </tbody>\n",
       "</table>\n",
       "</div>"
      ],
      "text/plain": [
       "                                Coefficient\n",
       "Avg. Area Income                  21.197466\n",
       "Avg. Area House Age           168646.274595\n",
       "Avg. Area Number of Rooms     120151.740076\n",
       "Avg. Area Number of Bedrooms    1904.044197\n",
       "Area Population                   15.439783"
      ]
     },
     "execution_count": 15,
     "metadata": {},
     "output_type": "execute_result"
    }
   ],
   "source": [
    "coef_df = pd.DataFrame(linreg.coef_,x.columns, columns = [\"Coefficient\"])\n",
    "coef_df"
   ]
  },
  {
   "cell_type": "code",
   "execution_count": 16,
   "id": "c0d24bc0",
   "metadata": {},
   "outputs": [
    {
     "data": {
      "text/plain": [
       "<matplotlib.collections.PathCollection at 0x24602281f0>"
      ]
     },
     "execution_count": 16,
     "metadata": {},
     "output_type": "execute_result"
    },
    {
     "data": {
      "image/png": "[encoded data removed]",
      "text/plain": [
       "<Figure size 432x288 with 1 Axes>"
      ]
     },
     "metadata": {
      "needs_background": "light"
     },
     "output_type": "display_data"
    }
   ],
   "source": [
    "plt.scatter(ytest, ypred)"
   ]
  },
  {
   "cell_type": "code",
   "execution_count": 17,
   "id": "7de00eaf",
   "metadata": {},
   "outputs": [
    {
     "data": {
      "text/plain": [
       "<AxesSubplot:ylabel='Density'>"
      ]
     },
     "execution_count": 17,
     "metadata": {},
     "output_type": "execute_result"
    },
    {
     "data": {
      "image/png": "[encoded data removed]",
      "text/plain": [
       "<Figure size 432x288 with 1 Axes>"
      ]
     },
     "metadata": {
      "needs_background": "light"
     },
     "output_type": "display_data"
    }
   ],
   "source": [
    "sns.distplot((ytest-ypred), bins=50)"
   ]
  },
  {
   "cell_type": "markdown",
   "id": "02dfe451",
   "metadata": {},
   "source": [
    "# Displaying evaluation Metrics\n",
    "- It is used to evaluate the the performance and the accuracy of the model\n",
    "- we need to import some modules for evaluation"
   ]
  },
  {
   "cell_type": "code",
   "execution_count": 18,
   "id": "bcbc65d8",
   "metadata": {},
   "outputs": [],
   "source": [
    "from sklearn.metrics import mean_absolute_error, mean_squared_error,r2_score"
   ]
  },
  {
   "cell_type": "code",
   "execution_count": 19,
   "id": "f5a264ae",
   "metadata": {},
   "outputs": [
    {
     "name": "stdout",
     "output_type": "stream",
     "text": [
      "MeanAbsoluteError :-  82069.79610021316\n",
      "MeanSquaredError :-  10478307802.663448\n",
      "MeanSquaredError :-  10478307802.663448\n",
      "rSquared :-  0.9220790430417267\n"
     ]
    }
   ],
   "source": [
    "print(f\"MeanAbsoluteError :-  {mean_absolute_error(ytest,ypred)}\")\n",
    "print(f\"MeanSquaredError :-  {mean_squared_error(ytest,ypred)}\")\n",
    "print(f\"MeanSquaredError :-  {mean_squared_error(ytest,ypred)}\")\n",
    "print(f\"rSquared :-  {(r2_score(ytest,ypred))}\")"
   ]
  },
  {
   "cell_type": "markdown",
   "id": "06a3b892",
   "metadata": {},
   "source": [
    "- r2_score helps to determine the accuracy of the model\n",
    "- Root Mean Squared Error or RMSE represents the squareroot Mean Squared Error.It measures the Standard Deviation of the residuals\n",
    "- Mean Squared Error or MSE represents the average of the squared difeerence between the actual and the predicted values in the given Dataset\n",
    "- MAE or Mean Absolute error represents the average of the absolute difference between the actual values and the predicted values in the given Dataset"
   ]
  },
  {
   "cell_type": "markdown",
   "id": "357bb968",
   "metadata": {},
   "source": [
    "# CONCLUSION\n",
    "- After evaluating this Dataset we can say that this model is 92% accurate and can be used for future predictions \n",
    "- All the evaluation metrics has been displayed in the above Dataset"
   ]
  }
 ],
 "metadata": {
  "kernelspec": {
   "display_name": "Python 3",
   "language": "python",
   "name": "python3"
  },
  "language_info": {
   "codemirror_mode": {
    "name": "ipython",
    "version": 3
   },
   "file_extension": ".py",
   "mimetype": "text/x-python",
   "name": "python",
   "nbconvert_exporter": "python",
   "pygments_lexer": "ipython3",
   "version": "3.8.8"
  }
 },
 "nbformat": 4,
 "nbformat_minor": 5
}
